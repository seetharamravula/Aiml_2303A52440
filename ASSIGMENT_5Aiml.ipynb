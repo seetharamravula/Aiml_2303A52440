{
  "nbformat": 4,
  "nbformat_minor": 0,
  "metadata": {
    "colab": {
      "private_outputs": true,
      "provenance": [],
      "authorship_tag": "ABX9TyMoVqlaHzifppMVb3fq8rCN"
    },
    "kernelspec": {
      "name": "python3",
      "display_name": "Python 3"
    },
    "language_info": {
      "name": "python"
    }
  },
  "cells": [
    {
      "cell_type": "code",
      "execution_count": null,
      "metadata": {
        "id": "9IWZhZcNMeAt"
      },
      "outputs": [],
      "source": [
        "Part1) Import the required Python, Pandas, Matplotlib, Seaborn packages\n",
        "\n"
      ]
    },
    {
      "cell_type": "code",
      "source": [
        "import pandas as pd\n",
        "import numpy as np\n",
        "import matplotlib.pyplot as plt\n",
        "import seaborn as sns\n",
        "%matplotlib inline\n",
        "\n",
        "train = pd.read_csv('/content/titanic_test.csv')\n",
        "train.head()"
      ],
      "metadata": {
        "id": "HltK2xEkNAil"
      },
      "execution_count": null,
      "outputs": []
    },
    {
      "cell_type": "code",
      "source": [
        "train.info(verbose=True)\n",
        "d=train.describe()\n",
        "d"
      ],
      "metadata": {
        "id": "dVrFiUD4N6G9"
      },
      "execution_count": null,
      "outputs": []
    },
    {
      "cell_type": "code",
      "source": [
        "dT=d.T\n",
        "dT.plot.bar(y='count')\n",
        "plt.title(\"Bar plot of the count of numeric features\",fontsize=17)\n",
        "\n"
      ],
      "metadata": {
        "id": "XVNCm4kwN8-c"
      },
      "execution_count": null,
      "outputs": []
    },
    {
      "source": [
        "import pandas as pd\n",
        "import numpy as np\n",
        "import matplotlib.pyplot as plt\n",
        "import seaborn as sns\n",
        "%matplotlib inline\n",
        "\n",
        "\n",
        "train = pd.read_csv('/content/titanic_train (2).csv')\n",
        "train.head()\n",
        "\n",
        "sns.set_style('whitegrid')\n",
        "sns.countplot(x='Survived',data=train,palette='RdBu_r')\n",
        "sns.pairplot(train)"
      ],
      "cell_type": "code",
      "metadata": {
        "id": "GdcAhRLEOUG7"
      },
      "execution_count": null,
      "outputs": []
    },
    {
      "cell_type": "code",
      "source": [
        "sns.set_style('whitegrid')\n",
        "sns.countplot(x='Survived',hue='Sex',data=train,palette='RdBu_r')\n"
      ],
      "metadata": {
        "id": "S5vyJCXYOxa9"
      },
      "execution_count": null,
      "outputs": []
    },
    {
      "cell_type": "code",
      "source": [
        "sns.set_style('whitegrid')\n",
        "sns.countplot(x='Survived',hue='Pclass',data=train,palette='rainbow')\n",
        ""
      ],
      "metadata": {
        "id": "N3KFc1JgPKKT"
      },
      "execution_count": null,
      "outputs": []
    },
    {
      "cell_type": "code",
      "source": [
        "f_class_survived=train.groupby('Pclass')['Survived'].mean()\n",
        "f_class_survived = pd.DataFrame(f_class_survived)\n",
        "f_class_survived\n",
        "f_class_survived.plot.bar(y='Survived')\n",
        "sns.countplot(x='Survived',data=f_class_survived,palette='rainbow')\n",
        "plt.title(\"Fraction of passengers survived by class\",fontsize=17)\n",
        ""
      ],
      "metadata": {
        "id": "yJmrjuimPN1z"
      },
      "execution_count": null,
      "outputs": []
    },
    {
      "cell_type": "code",
      "source": [
        "sns.set_style('whitegrid')\n",
        "sns.countplot(x='Survived',hue='SibSp',data=train,palette='rainbow')\n",
        ""
      ],
      "metadata": {
        "id": "LZ7OC69sPUPb"
      },
      "execution_count": null,
      "outputs": []
    },
    {
      "cell_type": "code",
      "source": [
        "import numpy as np\n",
        "\n",
        "\n",
        "train['Age'] = train['Age'].replace('', np.nan)\n",
        "\n",
        "\n",
        "train['Age'] = train['Age'].astype(float)\n",
        "\n",
        "\n",
        "train = train.dropna(subset=['Age'])\n",
        "\n",
        "\n",
        "plt.figure(figsize=(10, 6))\n",
        "plt.xlabel(\"Age of the passengers\", fontsize=18)\n",
        "plt.ylabel(\"Count\", fontsize=18)\n",
        "plt.title(\"Age histogram of the passengers\", fontsize=22)\n",
        "train['Age'].hist()\n",
        "plt.show()"
      ],
      "metadata": {
        "id": "6yfSbbapPkdr"
      },
      "execution_count": null,
      "outputs": []
    },
    {
      "cell_type": "code",
      "source": [
        "plt.figure(figsize=(12, 10))\n",
        "plt.xlabel(\"Passenger Class\",fontsize=18)\n",
        "plt.ylabel(\"Age\",fontsize=18)\n",
        "sns.boxplot(x='Pclass',y='Age',data=train,palette='winter')\n",
        ""
      ],
      "metadata": {
        "id": "nhy2BTv5P1Y7"
      },
      "execution_count": null,
      "outputs": []
    },
    {
      "cell_type": "code",
      "source": [
        "f_class_Age=train.groupby('Pclass')['Age'].mean()\n",
        "f_class_Age = pd.DataFrame(f_class_Age)\n",
        "\n",
        "f_class_Age.plot.bar(y='Age')\n",
        "plt.title(\"Average age of passengers by class\",fontsize=17)\n",
        "plt.ylabel(\"Age (years)\", fontsize=17)\n",
        "plt.xlabel(\"Passenger class\", fontsize=17)\n",
        ""
      ],
      "metadata": {
        "id": "xyBE6awuP4Pr"
      },
      "execution_count": null,
      "outputs": []
    },
    {
      "cell_type": "code",
      "source": [
        "a=list(f_class_Age['Age'])\n",
        "\n",
        "def impute_age(cols):\n",
        "    Age = cols[0]\n",
        "    Pclass = cols[1]\n",
        "\n",
        "    if pd.isnull(Age):\n",
        "\n",
        "        if Pclass == 1:\n",
        "            return a[0]\n",
        "\n",
        "        elif Pclass == 2:\n",
        "            return a[1]\n",
        "\n",
        "        else:\n",
        "            return a[2]\n",
        "\n",
        "    else:\n",
        "        return Age"
      ],
      "metadata": {
        "id": "K9eYRYeUQDAj"
      },
      "execution_count": null,
      "outputs": []
    },
    {
      "cell_type": "code",
      "source": [
        "train['Age'] = train[['Age','Pclass']].apply(impute_age,axis=1)\n",
        "d=train.describe()\n",
        "\n",
        "dT=d.T\n",
        "dT.plot.bar(y='count')\n",
        "plt.title(\"Bar plot of the count of numeric features\",fontsize=17)"
      ],
      "metadata": {
        "id": "DMUGzZoWQFBT"
      },
      "execution_count": null,
      "outputs": []
    },
    {
      "cell_type": "code",
      "source": [
        "train.drop('Cabin',axis=1,inplace=True)\n",
        "train.dropna(inplace=True)\n",
        "train.head()"
      ],
      "metadata": {
        "id": "U_pAIftrQOjz"
      },
      "execution_count": null,
      "outputs": []
    },
    {
      "source": [
        "\n",
        "!pip install sklearn-pandas\n",
        "import pandas as pd\n",
        "from sklearn_pandas import DataFrameMapper\n",
        "from sklearn.preprocessing import LabelEncoder\n",
        "if 'Name' in train.columns:\n",
        "  mapper = DataFrameMapper([\n",
        "      ('Name', LabelEncoder())\n",
        "  ])\n",
        "\n",
        "  train = mapper.fit_transform(train.copy())"
      ],
      "cell_type": "code",
      "metadata": {
        "id": "IGTSU9pEQlW6"
      },
      "execution_count": null,
      "outputs": []
    },
    {
      "source": [
        "!pip install sklearn-pandas\n",
        "import pandas as pd\n",
        "from sklearn_pandas import DataFrameMapper\n",
        "from sklearn.preprocessing import LabelEncoder\n",
        "\n",
        "# Convert the NumPy array 'train' back to a Pandas DataFrame\n",
        "train = pd.DataFrame(train, columns=['Name'])\n",
        "\n",
        "if 'Name' in train.columns:\n",
        "  mapper = DataFrameMapper([\n",
        "      ('Name', LabelEncoder())\n",
        "  ])\n",
        "\n",
        "  # Assign the result of the transformation to a new variable to avoid overwriting\n",
        "  train_transformed = mapper.fit_transform(train.copy())\n",
        "\n",
        "  # Convert the NumPy array 'train_transformed' to a Pandas DataFrame\n",
        "  train = pd.DataFrame(train_transformed, columns=['Name'])"
      ],
      "cell_type": "code",
      "metadata": {
        "id": "BKT2Hb_oQ4c7"
      },
      "execution_count": null,
      "outputs": []
    },
    {
      "source": [
        "nsimu=101\n",
        "class_report = [0]*nsimu\n",
        "f1=[0]*nsimu\n",
        "random_init =[0]*nsimu\n",
        "\n",
        "# Ensure the DataFrame has a mix of classes for 'Survived'\n",
        "train = pd.DataFrame({'Survived': [0, 1, 0, 1, 0, 1],  # Added one more row with 'Survived' as 1\n",
        "                   'Name': [103, 45, 678, 234, 987, 123]})\n",
        "\n",
        "for i in range(1,nsimu):\n",
        "        X_train, X_test, y_train, y_test = train_test_split(train.drop('Survived',axis=1),\n",
        "                                                    train['Survived'], test_size=0.3,\n",
        "                                                    random_state=i+100)\n",
        "\n",
        "        # Check if y_train has more than one class\n",
        "        if len(y_train.unique()) > 1:\n",
        "          logmodel =(LogisticRegression(C=1,tol=1e-5, max_iter=1000,n_jobs=4))\n",
        "          logmodel.fit(X_train,y_train)\n",
        "          predictions = logmodel.predict(X_test)\n",
        "          class_report[i] = classification_report(y_test,predictions)\n",
        "          l=class_report[i].split()\n",
        "          f1[i] = l[len(l)-2]\n",
        "          random_init[i]=i+100\n",
        "        else:\n",
        "          print(f\"Iteration {i}: y_train contains only one class. Skipping this iteration.\")\n",
        "\n",
        "plt.plot(random_init[1:len(random_init)-2],f1[1:len(f1)-2])\n",
        "plt.title(\"F1-score vs. random initialization seed\",fontsize=20)\n",
        "plt.xlabel(\"Random initialization seed\",fontsize=17)\n",
        "plt.ylabel(\"F1-score on test data\",fontsize=17)\n",
        "plt.show()"
      ],
      "cell_type": "code",
      "metadata": {
        "id": "Y9Jy45M5R0f9"
      },
      "execution_count": null,
      "outputs": []
    }
  ]
}