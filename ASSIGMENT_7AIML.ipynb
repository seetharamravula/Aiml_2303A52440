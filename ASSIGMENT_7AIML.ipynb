{
  "nbformat": 4,
  "nbformat_minor": 0,
  "metadata": {
    "colab": {
      "private_outputs": true,
      "provenance": [],
      "authorship_tag": "ABX9TyMXugbmP2lqNJ4gTK1T1GLW"
    },
    "kernelspec": {
      "name": "python3",
      "display_name": "Python 3"
    },
    "language_info": {
      "name": "python"
    }
  },
  "cells": [
    {
      "cell_type": "markdown",
      "source": [],
      "metadata": {
        "id": "au67xMeZbVbQ"
      }
    },
    {
      "cell_type": "markdown",
      "source": [
        "Import libraries and load data"
      ],
      "metadata": {
        "id": "xNVuyjP9bXwf"
      }
    },
    {
      "cell_type": "code",
      "source": [
        "import pandas as pd\n",
        "import numpy as np\n",
        "import matplotlib.pyplot as plt\n",
        "import seaborn as sns\n",
        "%matplotlib inline"
      ],
      "metadata": {
        "id": "3GbRe4n-bZJX"
      },
      "execution_count": null,
      "outputs": []
    },
    {
      "cell_type": "code",
      "source": [
        "from sklearn.datasets import load_breast_cancer"
      ],
      "metadata": {
        "id": "LnkE3uTkbqUn"
      },
      "execution_count": null,
      "outputs": []
    },
    {
      "cell_type": "code",
      "source": [
        "cancer = load_breast_cancer()"
      ],
      "metadata": {
        "id": "U4l4R0jQbwg_"
      },
      "execution_count": null,
      "outputs": []
    },
    {
      "cell_type": "code",
      "source": [
        "cancer.keys()"
      ],
      "metadata": {
        "id": "VxG938UEbyEX"
      },
      "execution_count": null,
      "outputs": []
    },
    {
      "cell_type": "markdown",
      "source": [
        "We can grab information and arrays out of this dictionary to create data frame and understand the features\n",
        "\n",
        "The description of features are as follows"
      ],
      "metadata": {
        "id": "0MQNyjP9b8en"
      }
    },
    {
      "cell_type": "code",
      "source": [
        "print(cancer['DESCR'])"
      ],
      "metadata": {
        "id": "8j_ZJB2wb9SX"
      },
      "execution_count": null,
      "outputs": []
    },
    {
      "cell_type": "markdown",
      "source": [
        "Show the feature names"
      ],
      "metadata": {
        "id": "9OMeSzOtcIXG"
      }
    },
    {
      "cell_type": "code",
      "source": [
        "cancer['feature_names']"
      ],
      "metadata": {
        "id": "udLPD-4pcJ9G"
      },
      "execution_count": null,
      "outputs": []
    },
    {
      "cell_type": "markdown",
      "source": [
        "Set up the DataFrame\n",
        "\n"
      ],
      "metadata": {
        "id": "wNK76ko-eVA_"
      }
    },
    {
      "cell_type": "code",
      "source": [
        "df = pd.DataFrame(cancer['data'],columns=cancer['feature_names'])\n",
        "df.info()"
      ],
      "metadata": {
        "id": "6odEU_ANeaK9"
      },
      "execution_count": null,
      "outputs": []
    },
    {
      "cell_type": "code",
      "source": [
        "df.describe()"
      ],
      "metadata": {
        "id": "9937gwCOegCW"
      },
      "execution_count": null,
      "outputs": []
    },
    {
      "cell_type": "code",
      "source": [
        "np.sum(pd.isnull(df).sum())\n"
      ],
      "metadata": {
        "id": "h1IrcqjHevpN"
      },
      "execution_count": null,
      "outputs": []
    },
    {
      "cell_type": "code",
      "source": [
        "cancer['target']"
      ],
      "metadata": {
        "id": "phKoFSHCe6L8"
      },
      "execution_count": null,
      "outputs": []
    },
    {
      "cell_type": "markdown",
      "source": [
        "Adding the target data to the DataFrame"
      ],
      "metadata": {
        "id": "Jf77r-utfCYr"
      }
    },
    {
      "cell_type": "code",
      "source": [
        "df['Cancer'] = pd.DataFrame(cancer['target'])\n",
        "df.head()"
      ],
      "metadata": {
        "id": "z7ff6PPufDgU"
      },
      "execution_count": null,
      "outputs": []
    },
    {
      "cell_type": "markdown",
      "source": [
        "Exploratory Data Analysis\n",
        "Check the relative counts of benign (0) vs malignant (1)\n",
        "cases of cancer"
      ],
      "metadata": {
        "id": "gK70SkzrfQPE"
      }
    },
    {
      "cell_type": "code",
      "source": [
        "sns.set_style('whitegrid')\n",
        "sns.countplot(x='Cancer',data=df,palette='RdBu_r')"
      ],
      "metadata": {
        "id": "u1w8Gli9fRUM"
      },
      "execution_count": null,
      "outputs": []
    },
    {
      "cell_type": "markdown",
      "source": [
        "Draw boxplots of all the mean features (first 10 columns) for '0' and '1' CANCER OUTCOME\n"
      ],
      "metadata": {
        "id": "wUJ7XaIefgAU"
      }
    },
    {
      "cell_type": "code",
      "source": [
        "l=list(df.columns[0:10])\n",
        "for i in range(len(l)-1):\n",
        "    sns.boxplot(x='Cancer',y=l[i], data=df, palette='winter')\n",
        "    plt.figure()"
      ],
      "metadata": {
        "id": "t68pVSCKfpGl"
      },
      "execution_count": null,
      "outputs": []
    },
    {
      "cell_type": "markdown",
      "source": [
        "Not all the features seperate out the cancer predictions equally clearly\n",
        "For example, from the following two plots it is clear that smaller\n",
        "area generally is indicative of positive cancer detection,\n",
        "while nothing concrete can be said from the plot of mean smoothness"
      ],
      "metadata": {
        "id": "aiHalI9gf3U0"
      }
    },
    {
      "cell_type": "code",
      "source": [
        "f,(ax1, ax2) = plt.subplots(1, 2, sharey=True,figsize=(12,6))\n",
        "ax1.scatter(df['mean area'],df['Cancer'])\n",
        "ax1.set_title(\"Cancer cases as a function of mean area\",\n",
        "              fontsize=15)\n",
        "ax2.scatter(df['mean smoothness'],df['Cancer'])\n",
        "ax2.set_title(\"Cancer cases as a function of mean smoothness\",\n",
        "              fontsize=15)"
      ],
      "metadata": {
        "id": "0ycp9_rZgAEe"
      },
      "execution_count": null,
      "outputs": []
    },
    {
      "cell_type": "markdown",
      "source": [
        "Training and prediction\n",
        "Train Test Split"
      ],
      "metadata": {
        "id": "nHZ6a5EGgKOe"
      }
    },
    {
      "cell_type": "code",
      "source": [
        "df_feat = df.drop('Cancer',axis=1)\n",
        "df_feat.head()"
      ],
      "metadata": {
        "id": "gfGKE92xgLDm"
      },
      "execution_count": null,
      "outputs": []
    },
    {
      "cell_type": "code",
      "source": [
        "df_target = df['Cancer']\n",
        "df_target.head()"
      ],
      "metadata": {
        "id": "W6LwjVpAgWSb"
      },
      "execution_count": null,
      "outputs": []
    },
    {
      "cell_type": "code",
      "source": [
        "from sklearn.model_selection import train_test_split\n",
        "X_train, X_test, y_train, y_test = train_test_split(df_feat, df_target,test_size=0.30,\n",
        "                 random_state=101)\n",
        "X_train.head()\n",
        "X_train.head()"
      ],
      "metadata": {
        "id": "0x7SyJB1gdyj"
      },
      "execution_count": null,
      "outputs": []
    },
    {
      "cell_type": "code",
      "source": [
        "from sklearn.svm import SVC\n",
        "model = SVC()\n",
        "model.fit(X_train,y_train)"
      ],
      "metadata": {
        "id": "9PWS4p8cglUj"
      },
      "execution_count": null,
      "outputs": []
    },
    {
      "cell_type": "code",
      "source": [
        "predictions = model.predict(X_test)\n",
        "from sklearn.metrics import classification_report, confusion_matrix\n"
      ],
      "metadata": {
        "id": "lh_K_M0Gg1FL"
      },
      "execution_count": null,
      "outputs": []
    },
    {
      "cell_type": "code",
      "source": [
        "print(confusion_matrix(y_test,predictions))"
      ],
      "metadata": {
        "id": "vWXlIdk-g4gz"
      },
      "execution_count": null,
      "outputs": []
    },
    {
      "cell_type": "code",
      "source": [
        "print(classification_report(y_test,predictions))"
      ],
      "metadata": {
        "id": "w99_lYvGg_aF"
      },
      "execution_count": null,
      "outputs": []
    },
    {
      "cell_type": "code",
      "source": [
        "print(\"Misclassification error rate:\",\n",
        "      round(np.mean(predictions!=y_test),3))"
      ],
      "metadata": {
        "id": "oggITmeahKw6"
      },
      "execution_count": null,
      "outputs": []
    },
    {
      "cell_type": "code",
      "source": [
        "param_grid = {'C': [0.1,1, 10, 100, 1000],\n",
        "              'gamma': [1,0.1,0.01,0.001,0.0001], 'kernel': ['rbf']}\n",
        "from sklearn.model_selection import GridSearchCV"
      ],
      "metadata": {
        "id": "SRdgIS_WhbKT"
      },
      "execution_count": null,
      "outputs": []
    },
    {
      "cell_type": "code",
      "source": [
        "grid = GridSearchCV(SVC(),param_grid,refit=True,verbose=1)"
      ],
      "metadata": {
        "id": "4fFD6DC0hhLb"
      },
      "execution_count": null,
      "outputs": []
    },
    {
      "source": [
        "#Import Necessary Libraries\n",
        "from sklearn.metrics import classification_report, confusion_matrix\n",
        "from sklearn.model_selection import GridSearchCV\n",
        "from sklearn.svm import SVC\n",
        "import numpy as np\n",
        "# Assuming you have X_train, y_train, X_test, y_test defined\n",
        "# Define the parameter grid\n",
        "param_grid = {'C': [0.1, 1, 10, 100, 1000],\n",
        "              'gamma': [1, 0.1, 0.01, 0.001, 0.0001],\n",
        "              'kernel': ['rbf']}\n",
        "\n",
        "# Initialize GridSearchCV\n",
        "grid = GridSearchCV(SVC(), param_grid, refit=True, verbose=1)\n",
        "\n",
        "# Fit the model\n",
        "grid.fit(X_train, y_train)  # Assuming you have X_train and y_train\n",
        "\n",
        "# Make predictions on the test set\n",
        "grid_predictions = grid.predict(X_test)  # Assuming you have X_test\n",
        "\n",
        "# Now you can print the confusion matrix\n",
        "print(confusion_matrix(y_test, grid_predictions))"
      ],
      "cell_type": "code",
      "metadata": {
        "id": "aaTWaDKMh9MB"
      },
      "execution_count": null,
      "outputs": []
    },
    {
      "cell_type": "code",
      "source": [
        "print(classification_report(y_test,grid_predictions))"
      ],
      "metadata": {
        "id": "82J-KU_liB4K"
      },
      "execution_count": null,
      "outputs": []
    }
  ]
}