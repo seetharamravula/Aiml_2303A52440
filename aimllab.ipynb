{
  "nbformat": 4,
  "nbformat_minor": 0,
  "metadata": {
    "colab": {
      "private_outputs": true,
      "provenance": [],
      "authorship_tag": "ABX9TyPCDE8+rwgKXkiz/My+HWvm",
      "include_colab_link": true
    },
    "kernelspec": {
      "name": "python3",
      "display_name": "Python 3"
    },
    "language_info": {
      "name": "python"
    }
  },
  "cells": [
    {
      "cell_type": "markdown",
      "metadata": {
        "id": "view-in-github",
        "colab_type": "text"
      },
      "source": [
        "<a href=\"https://colab.research.google.com/github/seetharamravula/Aiml_2303A52440/blob/main/aimllab.ipynb\" target=\"_parent\"><img src=\"https://colab.research.google.com/assets/colab-badge.svg\" alt=\"Open In Colab\"/></a>"
      ]
    },
    {
      "cell_type": "code",
      "source": [
        "import pandas as pd\n",
        "\n",
        "df = pd.read_csv('/content/hw_200 (7).csv')\n",
        "print(df.head())\n"
      ],
      "metadata": {
        "id": "BC5d6PS3x1Lv"
      },
      "execution_count": null,
      "outputs": []
    },
    {
      "cell_type": "code",
      "source": [
        "df.info()"
      ],
      "metadata": {
        "id": "BxKeQk_4yDlP"
      },
      "execution_count": null,
      "outputs": []
    },
    {
      "cell_type": "code",
      "source": [
        "df.describe()"
      ],
      "metadata": {
        "id": "_crzYGo5yHof"
      },
      "execution_count": null,
      "outputs": []
    },
    {
      "cell_type": "code",
      "source": [
        "df.isnull()"
      ],
      "metadata": {
        "id": "eEayvI5IzY2n"
      },
      "execution_count": null,
      "outputs": []
    },
    {
      "cell_type": "code",
      "source": [
        "import numpy as np\n",
        "import pandas as pd\n",
        "import matplotlib.pyplot as plt\n",
        "from sklearn.linear_model import LinearRegression\n",
        "from sklearn.metrics import r2_score, mean_squared_error\n",
        "from sklearn.preprocessing import StandardScaler\n",
        "from sklearn.model_selection import train_test_split\n",
        "\n",
        "# Simple Linear Regression\n",
        "np.random.seed(0)\n",
        "X = np.random.rand(100, 1) * 10\n",
        "Y = 2 * X + 3 + np.random.randn(100, 1)\n",
        "\n",
        "# Simple Linear Regression Model\n",
        "model = LinearRegression()\n",
        "model.fit(X, Y)\n",
        "Y_pred = model.predict(X)\n",
        "\n",
        "# Plotting regression line and data points\n",
        "plt.scatter(X, Y, color='blue', label='Data points')\n",
        "plt.plot(X, Y_pred, color='red', label='Regression line')\n",
        "plt.xlabel('X')\n",
        "plt.ylabel('Y')\n",
        "plt.title('Simple Linear Regression')\n",
        "plt.legend()\n",
        "plt.show()\n",
        "\n",
        "# R-squared value for simple regression\n",
        "r2 = r2_score(Y, Y_pred)\n",
        "print(f\"R-squared value for simple regression: {r2}\")\n",
        "\n",
        "# Multiple Linear Regression with two features\n",
        "X1 = np.random.rand(100, 1) * 10  # Independent variable 1\n",
        "X2 = np.random.rand(100, 1) * 5   # Independent variable 2\n",
        "Y = 3 * X1 + 2 * X2 + 4 + np.random.randn(100, 1)  # Dependent variable\n",
        "\n",
        "X_multi = np.column_stack((X1, X2))\n",
        "model_multi = LinearRegression()\n",
        "model_multi.fit(X_multi, Y)\n",
        "Y_pred_multi = model_multi.predict(X_multi)\n",
        "\n",
        "# R-squared value for multiple regression\n",
        "r2_multi = r2_score(Y, Y_pred_multi)\n",
        "print(f\"R-squared value for multiple regression: {r2_multi}\")\n",
        "\n",
        "# Plot residuals\n",
        "residuals = Y - Y_pred_multi\n",
        "plt.scatter(Y_pred_multi, residuals)\n",
        "plt.axhline(y=0, color='r', linestyle='--')\n",
        "plt.xlabel('Predicted Values')\n",
        "plt.ylabel('Residuals')\n",
        "plt.title('Residuals Plot')\n",
        "plt.show()\n",
        "\n",
        "# Split data and compare MSE with/without scaling\n",
        "X_train, X_test, Y_train, Y_test = train_test_split(X_multi, Y, test_size=0.2, random_state=42)\n",
        "\n",
        "model_no_scaling = LinearRegression()\n",
        "model_no_scaling.fit(X_train, Y_train)\n",
        "Y_pred_no_scaling = model_no_scaling.predict(X_test)\n",
        "mse_no_scaling = mean_squared_error(Y_test, Y_pred_no_scaling)\n",
        "print(f\"MSE without feature scaling: {mse_no_scaling}\")\n",
        "\n",
        "# Linear Regression with feature scaling\n",
        "scaler = StandardScaler()\n",
        "X_train_scaled = scaler.fit_transform(X_train)\n",
        "X_test_scaled = scaler.transform(X_test)\n",
        "\n",
        "model_with_scaling = LinearRegression()\n",
        "model_with_scaling.fit(X_train_scaled, Y_train)\n",
        "Y_pred_with_scaling = model_with_scaling.predict(X_test_scaled)\n",
        "mse_with_scaling = mean_squared_error(Y_test, Y_pred_with_scaling)\n",
        "print(f\"MSE with feature scaling: {mse_with_scaling}\")\n"
      ],
      "metadata": {
        "id": "Dg4pSpiFwQ23"
      },
      "execution_count": null,
      "outputs": []
    }
  ]
}